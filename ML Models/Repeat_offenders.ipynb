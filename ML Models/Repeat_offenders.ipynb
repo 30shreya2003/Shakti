{
  "nbformat": 4,
  "nbformat_minor": 0,
  "metadata": {
    "colab": {
      "provenance": []
    },
    "kernelspec": {
      "name": "python3",
      "display_name": "Python 3"
    },
    "language_info": {
      "name": "python"
    }
  },
  "cells": [
    {
      "cell_type": "code",
      "source": [
        "import pandas as pd\n",
        "import sqlite3\n",
        "import networkx as nx\n",
        "import matplotlib.pyplot as plt\n",
        "from sklearn.cluster import DBSCAN\n",
        "import numpy as np\n",
        "\n",
        "df = pd.read_csv(\"repeat_offenders.csv\")\n",
        "\n",
        "conn = sqlite3.connect(\"offenders.db\")\n",
        "cursor = conn.cursor()\n",
        "\n",
        "cursor.execute(\"\"\"\n",
        "    CREATE TABLE IF NOT EXISTS complaints (\n",
        "        Offender_ID TEXT,\n",
        "        Name TEXT,\n",
        "        Crime_Type TEXT,\n",
        "        Date TEXT,\n",
        "        Location TEXT,\n",
        "        Complaint_Text TEXT,\n",
        "        Case_Status TEXT\n",
        "    )\n",
        "\"\"\")"
      ],
      "metadata": {
        "id": "PUewTe-TROnh",
        "colab": {
          "base_uri": "https://localhost:8080/"
        },
        "outputId": "4fa04d47-44e9-49e0-f0c7-22938a7f085c"
      },
      "execution_count": null,
      "outputs": [
        {
          "output_type": "execute_result",
          "data": {
            "text/plain": [
              "<sqlite3.Cursor at 0x7d23288adec0>"
            ]
          },
          "metadata": {},
          "execution_count": 27
        }
      ]
    },
    {
      "cell_type": "code",
      "source": [
        "\n",
        "df.to_sql(\"complaints\", conn, if_exists=\"replace\", index=False)\n",
        "\n",
        "def get_repeat_offenders():\n",
        "    query = \"SELECT Name, COUNT(*) as Cases FROM complaints GROUP BY Name HAVING COUNT(*) > 1\"\n",
        "    return pd.read_sql(query, conn)\n",
        "\n",
        "repeat_offenders = get_repeat_offenders()\n",
        "print(\"\\nRepeat Offenders:\\n\", repeat_offenders)\n",
        "\n",
        "def get_crime_locations():\n",
        "    query = \"SELECT Location, Crime_Type, COUNT(*) as Cases FROM complaints GROUP BY Location, Crime_Type\"\n",
        "    return pd.read_sql(query, conn)\n",
        "\n",
        "crime_locations = get_crime_locations()\n",
        "print(\"\\nCrime Locations:\\n\", crime_locations)"
      ],
      "metadata": {
        "colab": {
          "base_uri": "https://localhost:8080/"
        },
        "id": "to2XBWnWRWFT",
        "outputId": "c226762b-c545-4d39-c2ec-a86d09eec922"
      },
      "execution_count": null,
      "outputs": [
        {
          "output_type": "stream",
          "name": "stdout",
          "text": [
            "\n",
            "Repeat Offenders:\n",
            "                  Name  Cases\n",
            "0       Abigail Smith      3\n",
            "1       Allison Smith      2\n",
            "2      Amanda Jackson      3\n",
            "3        Amanda Riley      2\n",
            "4       Amanda Wilson      2\n",
            "..                ...    ...\n",
            "248  William Gonzalez      2\n",
            "249   William Johnson      2\n",
            "250    William Melton      2\n",
            "251      William Reed      2\n",
            "252   Zachary Johnson      2\n",
            "\n",
            "[253 rows x 2 columns]\n",
            "\n",
            "Crime Locations:\n",
            "            Location     Crime_Type  Cases\n",
            "0              None      Blackmail      1\n",
            "1         Aaronland  Cyberstalking      1\n",
            "2        Aaronmouth  Cyberstalking      1\n",
            "3        Aaronmouth     Harassment      1\n",
            "4        Aaronshire        Threats      1\n",
            "...             ...            ...    ...\n",
            "6301    Zacharyside     Harassment      1\n",
            "6302      Zhangberg        Threats      1\n",
            "6303     Zhangmouth     Harassment      1\n",
            "6304  Zimmermanfurt       Stalking      1\n",
            "6305     Zunigaland  Cyberstalking      1\n",
            "\n",
            "[6306 rows x 3 columns]\n"
          ]
        }
      ]
    },
    {
      "cell_type": "code",
      "source": [
        "df[\"Latitude\"] = np.random.uniform(-90, 90, len(df))\n",
        "df[\"Longitude\"] = np.random.uniform(-180, 180, len(df))\n",
        "\n",
        "coords = np.array(df[[\"Latitude\", \"Longitude\"]])\n",
        "dbscan = DBSCAN(eps=10, min_samples=2).fit(coords)\n",
        "df[\"Cluster\"] = dbscan.labels_\n",
        "\n",
        "print(\"\\nClustering Results:\\n\", df[[\"Name\", \"Location\", \"Cluster\"]])\n",
        "\n",
        "\n",
        "def check_risk(offender, location):\n",
        "    query = \"\"\"\n",
        "        SELECT COUNT(*) as Cases\n",
        "        FROM complaints\n",
        "        WHERE Name = ? AND Location = ?\n",
        "    \"\"\"\n",
        "    result = cursor.execute(query, (offender, location)).fetchone()\n",
        "    return result[0] > 1\n"
      ],
      "metadata": {
        "id": "5PCNMl1_RaT3",
        "colab": {
          "base_uri": "https://localhost:8080/"
        },
        "outputId": "27a3ea5f-e298-4ad9-94b1-0393ce48ef33"
      },
      "execution_count": null,
      "outputs": [
        {
          "output_type": "stream",
          "name": "stdout",
          "text": [
            "\n",
            "Clustering Results:\n",
            "                 Name         Location  Cluster\n",
            "0     Travis Pearson       Brownburgh        0\n",
            "1        James Lopez    Port Kimberly        0\n",
            "2        Ryan Moreno        Port Cody        0\n",
            "3      Kristi Graham        Ebonyview        0\n",
            "4         Tyler Lutz      Brooksville        0\n",
            "...              ...              ...      ...\n",
            "6514    James Melton  Thompsonchester        0\n",
            "6515      Tyler Cole     East Tiffany        0\n",
            "6516     Billy Smith      Beltranview        0\n",
            "6517    Joseph Berry     East Caitlyn        0\n",
            "6518    Ryan Nichols              NaN        0\n",
            "\n",
            "[6519 rows x 3 columns]\n"
          ]
        }
      ]
    },
    {
      "cell_type": "code",
      "source": [
        "offender_name = \"Travis Pearson\"\n",
        "offender_location = \"Brownburgh\"\n",
        "risk = check_risk(offender_name, offender_location)\n",
        "print(f\"\\nRisk Assessment for {offender_name} at {offender_location}: {'High Risk' if risk else 'Low Risk'}\")\n",
        "\n",
        "conn.close()\n"
      ],
      "metadata": {
        "id": "R3Mrp_G4Ri1g",
        "colab": {
          "base_uri": "https://localhost:8080/"
        },
        "outputId": "52c50db6-9fb7-4f19-8438-893c1a247f15"
      },
      "execution_count": null,
      "outputs": [
        {
          "output_type": "stream",
          "name": "stdout",
          "text": [
            "\n",
            "Risk Assessment for Travis Pearson at Brownburgh: Low Risk\n"
          ]
        }
      ]
    },
    {
      "cell_type": "code",
      "source": [],
      "metadata": {
        "id": "ValSMtUsaHJV"
      },
      "execution_count": null,
      "outputs": []
    }
  ]
}